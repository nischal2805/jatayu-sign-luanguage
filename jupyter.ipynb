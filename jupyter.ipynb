{
 "cells": [
  {
   "cell_type": "markdown",
   "metadata": {},
   "source": [
    "# Running Code Cells\n",
    "Demonstrate how to run code cells using the Run button and keyboard shortcuts. Show the output of executed cells and explain cell execution indicators."
   ]
  },
  {
   "cell_type": "code",
   "execution_count": null,
   "metadata": {},
   "outputs": [],
   "source": [
    "# Demonstrating how to run code cells using the Run button and keyboard shortcuts\n",
    "\n",
    "# Example 1: A simple print statement\n",
    "print(\"Hello, Jupyter Notebook!\")\n",
    "\n",
    "# Example 2: Performing a basic calculation\n",
    "result = 5 + 3\n",
    "result  # This will display the output of the calculation\n",
    "\n",
    "# Example 3: Using a loop to print numbers\n",
    "for i in range(1, 6):\n",
    "    print(f\"Number: {i}\")\n",
    "\n",
    "# Note: Observe the cell execution indicators (e.g., [*], [1], [2]) to understand the order of execution."
   ]
  },
  {
   "cell_type": "markdown",
   "metadata": {},
   "source": [
    "# Cell Execution Order\n",
    "Explain cell execution numbering and the importance of execution order. Show examples of how order affects variable scope and availability."
   ]
  },
  {
   "cell_type": "code",
   "execution_count": null,
   "metadata": {},
   "outputs": [],
   "source": [
    "# Demonstrating the importance of cell execution order\n",
    "\n",
    "# Example 1: Defining a variable in one cell and using it in another\n",
    "x = 10  # Define a variable\n",
    "\n",
    "# Example 2: Using the variable defined above\n",
    "print(f\"The value of x is: {x}\")\n",
    "\n",
    "# Example 3: Attempting to use a variable before it is defined\n",
    "try:\n",
    "    print(f\"The value of y is: {y}\")  # This will raise a NameError\n",
    "except NameError as e:\n",
    "    print(f\"Error: {e}\")\n",
    "\n",
    "# Example 4: Redefining a variable and observing the effect\n",
    "x = 20  # Redefine the variable\n",
    "print(f\"The updated value of x is: {x}\")\n",
    "\n",
    "# Note: The order in which cells are executed affects the availability and value of variables."
   ]
  },
  {
   "cell_type": "markdown",
   "metadata": {},
   "source": [
    "# Keyboard Shortcuts\n",
    "Cover essential keyboard shortcuts for running cells (Shift+Enter, Ctrl+Enter, Alt+Enter) and demonstrate how to view the complete keyboard shortcut list."
   ]
  },
  {
   "cell_type": "code",
   "execution_count": null,
   "metadata": {},
   "outputs": [],
   "source": [
    "# Keyboard Shortcuts\n",
    "\n",
    "# Example 1: Running a cell with Shift+Enter\n",
    "# Press Shift+Enter to execute this cell and move to the next cell.\n",
    "print(\"This cell was run using Shift+Enter!\")\n",
    "\n",
    "# Example 2: Running a cell with Ctrl+Enter\n",
    "# Press Ctrl+Enter to execute this cell and stay in the same cell.\n",
    "print(\"This cell was run using Ctrl+Enter!\")\n",
    "\n",
    "# Example 3: Running a cell with Alt+Enter\n",
    "# Press Alt+Enter to execute this cell and insert a new cell below.\n",
    "print(\"This cell was run using Alt+Enter!\")\n",
    "\n",
    "# Viewing the complete keyboard shortcut list\n",
    "# To view all keyboard shortcuts, press `H` in command mode (when no cell is selected for editing)."
   ]
  },
  {
   "cell_type": "markdown",
   "metadata": {},
   "source": [
    "# Magic Commands\n",
    "Introduce Jupyter's magic commands like %time, %run, %%timeit that help with execution and performance monitoring."
   ]
  },
  {
   "cell_type": "code",
   "execution_count": null,
   "metadata": {},
   "outputs": [],
   "source": [
    "# Magic Commands\n",
    "\n",
    "# Example 1: Using %time to measure the execution time of a single statement\n",
    "%time sum(range(1_000_000))\n",
    "\n",
    "# Example 2: Using %%timeit to measure the average execution time of a code block\n",
    "%%timeit\n",
    "total = 0\n",
    "for i in range(1_000):\n",
    "    total += i\n",
    "\n",
    "# Example 3: Using %run to execute an external Python script\n",
    "# Save the following code in a file named `example_script.py`:\n",
    "# def greet(name):\n",
    "#     return f\"Hello, {name}!\"\n",
    "# print(greet(\"Jupyter\"))\n",
    "# Then, use %run to execute the script:\n",
    "# %run example_script.py\n",
    "\n",
    "# Note: Ensure the file `example_script.py` is in the same directory as your notebook.\n",
    "\n",
    "# Example 4: Using %who to list all variables in the current namespace\n",
    "a = 10\n",
    "b = 20\n",
    "%who\n",
    "\n",
    "# Example 5: Using %whos for a detailed view of variables in the current namespace\n",
    "%whos\n",
    "\n",
    "# Example 6: Using %lsmagic to list all available magic commands\n",
    "%lsmagic\n",
    "\n",
    "# Note: Magic commands are a powerful feature of Jupyter notebooks that enhance productivity and performance monitoring."
   ]
  },
  {
   "cell_type": "markdown",
   "metadata": {},
   "source": [
    "# Running External Scripts\n",
    "Show how to execute external Python scripts and import functions from other files into a notebook."
   ]
  },
  {
   "cell_type": "code",
   "execution_count": null,
   "metadata": {},
   "outputs": [],
   "source": [
    "# Save the following code in a file named `external_script.py`:\n",
    "# def add_numbers(a, b):\n",
    "#     return a + b\n",
    "# \n",
    "# def multiply_numbers(a, b):\n",
    "#     return a * b\n",
    "# \n",
    "# print(\"External script executed!\")\n",
    "\n",
    "# Example 1: Using %run to execute the external script\n",
    "# Ensure the file `external_script.py` is in the same directory as your notebook.\n",
    "%run external_script.py\n",
    "\n",
    "# Example 2: Importing functions from the external script\n",
    "from external_script import add_numbers, multiply_numbers\n",
    "\n",
    "# Example 3: Using the imported functions\n",
    "sum_result = add_numbers(5, 7)\n",
    "product_result = multiply_numbers(5, 7)\n",
    "\n",
    "# Display the results\n",
    "print(f\"Sum: {sum_result}\")\n",
    "print(f\"Product: {product_result}\")"
   ]
  },
  {
   "cell_type": "markdown",
   "metadata": {},
   "source": [
    "# Managing Kernel Operations\n",
    "Explain how to restart, interrupt, and clear kernel outputs, and when these operations are necessary."
   ]
  },
  {
   "cell_type": "code",
   "execution_count": null,
   "metadata": {},
   "outputs": [],
   "source": [
    "# Managing Kernel Operations\n",
    "\n",
    "# Restarting the kernel\n",
    "# Restarting the kernel clears all variables and resets the notebook's state.\n",
    "# Use this when you want to start fresh or if the kernel becomes unresponsive.\n",
    "# You can restart the kernel from the menu: Kernel > Restart Kernel.\n",
    "\n",
    "# Example: Demonstrating the effect of restarting the kernel\n",
    "# Define a variable\n",
    "z = 50\n",
    "print(f\"Value of z before restarting the kernel: {z}\")\n",
    "\n",
    "# After restarting the kernel, the variable `z` will no longer exist.\n",
    "\n",
    "# Interrupting the kernel\n",
    "# Interrupting the kernel stops the execution of the current cell.\n",
    "# Use this when a cell is taking too long to execute or is stuck in an infinite loop.\n",
    "\n",
    "# Example: Demonstrating kernel interruption\n",
    "import time\n",
    "\n",
    "try:\n",
    "    # This loop will run indefinitely unless interrupted\n",
    "    while True:\n",
    "        print(\"Running...\")\n",
    "        time.sleep(1)\n",
    "except KeyboardInterrupt:\n",
    "    print(\"Kernel interrupted!\")\n",
    "\n",
    "# Clearing kernel outputs\n",
    "# Clearing outputs removes all cell outputs without affecting the code.\n",
    "# Use this to declutter the notebook or before sharing it.\n",
    "# You can clear outputs from the menu: Cell > All Output > Clear.\n",
    "\n",
    "# Example: Clearing outputs does not require code; it is a manual operation."
   ]
  }
 ],
 "metadata": {
  "kernelspec": {
   "display_name": "base",
   "language": "python",
   "name": "python3"
  },
  "language_info": {
   "name": "python",
   "version": "3.10.13"
  }
 },
 "nbformat": 4,
 "nbformat_minor": 2
}
