{
 "cells": [
  {
   "cell_type": "markdown",
   "metadata": {},
   "source": [
    "# Exploratory Data Analysis for Sign Language Recognition\n",
    "\n",
    "In this notebook, we will perform exploratory data analysis (EDA) on the sign language dataset. The goal is to visualize the dataset and understand the features that will be used for training the model."
   ]
  },
  {
   "cell_type": "code",
   "execution_count": null,
   "metadata": {
    "id": "import-libraries"
   },
   "outputs": [],
   "source": [
    "# Import necessary libraries\n",
    "import os\n",
    "import pandas as pd\n",
    "import numpy as np\n",
    "import matplotlib.pyplot as plt\n",
    "import seaborn as sns\n",
    "from PIL import Image\n",
    "\n",
    "# Set visualization style\n",
    "sns.set(style='whitegrid')"
   ]
  },
  {
   "cell_type": "code",
   "execution_count": null,
   "metadata": {
    "id": "load-data"
   },
   "outputs": [],
   "source": [
    "# Load the dataset\n",
    "data_dir = '../data/raw/'  # Adjust the path as necessary\n",
    "data = pd.read_csv(os.path.join(data_dir, 'sign_language_data.csv'))  # Replace with actual dataset file\n",
    "\n",
    "# Display the first few rows of the dataset\n",
    "data.head()"
   ]
  },
  {
   "cell_type": "code",
   "execution_count": null,
   "metadata": {
    "id": "data-summary"
   },
   "outputs": [],
   "source": [
    "# Summary of the dataset\n",
    "data.info()\n",
    "data.describe()"
   ]
  },
  {
   "cell_type": "code",
   "execution_count": null,
   "metadata": {
    "id": "visualize-label-distribution"
   },
   "outputs": [],
   "source": [
    "# Visualize the distribution of labels\n",
    "plt.figure(figsize=(12, 6))\n",
    "sns.countplot(x='label', data=data)\n",
    "plt.title('Distribution of Sign Language Labels')\n",
    "plt.xticks(rotation=45)\n",
    "plt.show()"
   ]
  },
  {
   "cell_type": "code",
   "execution_count": null,
   "metadata": {
    "id": "sample-images"
   },
   "outputs": [],
   "source": [
    "# Display sample images from the dataset\n",
    "sample_images = data.sample(5)\n",
    "plt.figure(figsize=(15, 10))\n",
    "for i, row in enumerate(sample_images.iterrows()):\n",
    "    plt.subplot(1, 5, i + 1)\n",
    "    img_path = os.path.join(data_dir, row[1]['image_path'])  # Adjust based on actual column name\n",
    "    img = Image.open(img_path)\n",
    "    plt.imshow(img)\n",
    "    plt.title(row[1]['label'])\n",
    "    plt.axis('off')\n",
    "plt.show()"
   ]
  },
  {
   "cell_type": "markdown",
   "metadata": {},
   "source": [
    "## Conclusion\n",
    "\n",
    "In this notebook, we performed exploratory data analysis on the sign language dataset. We visualized the distribution of labels and displayed sample images. This analysis will help us understand the dataset better and guide our model training process."
   ]
  }
 ],
 "metadata": {
  "kernelspec": {
   "display_name": "Python 3",
   "language": "python",
   "name": "python3"
  },
  "language_info": {
   "codemirror_mode": {
    "name": "ipython",
    "version": 3
   },
   "file_extension": ".py",
   "mimetype": "text/x-python",
   "name": "python",
   "nbconvert_exporter": "python",
   "pygments_lexer": "ipython3",
   "version": "3.8.5"
  }
 },
 "nbformat": 4,
 "nbformat_minor": 4
}